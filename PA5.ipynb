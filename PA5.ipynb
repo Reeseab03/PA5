{
 "cells": [
  {
   "cell_type": "markdown",
   "id": "b9eaa518",
   "metadata": {},
   "source": [
    "# Assignment 5"
   ]
  },
  {
   "cell_type": "markdown",
   "id": "a6ca389d",
   "metadata": {},
   "source": [
    "## Reese Bottorff"
   ]
  },
  {
   "cell_type": "markdown",
   "id": "4f37ef49",
   "metadata": {},
   "source": [
    "### CS-150"
   ]
  },
  {
   "cell_type": "code",
   "execution_count": 17,
   "id": "970c93fc",
   "metadata": {},
   "outputs": [
    {
     "name": "stdout",
     "output_type": "stream",
     "text": [
      "Enter a word to translate from English to Spanish. Enter '0' to stop: blue\n",
      "The Spanish word blue is not in this dictionary\n",
      "Enter a word to translate from English to Spanish. Enter '0' to stop: dog\n",
      "The Spanish word for dog is:  perro\n",
      "Enter a word to translate from English to Spanish. Enter '0' to stop: 0\n"
     ]
    }
   ],
   "source": [
    "language={'dog':'perro', \n",
    "         'cat':'gato',\n",
    "         'hello':'hola',\n",
    "         'water':'agua', \n",
    "         'purple':'morada', \n",
    "         'gym':'gimnasia', \n",
    "         'bed':'cama', \n",
    "         'pants':'pantalones', \n",
    "         'strawberry':'fresa', \n",
    "         'run':'correr'}\n",
    "prompt=\"Enter a word to translate from English to Spanish. Enter \\'0\\' to stop: \"\n",
    "message=\" \"\n",
    "number=0\n",
    "active=True\n",
    "while active:\n",
    "    message=input(prompt)\n",
    "    \n",
    "    if (message=='0'):\n",
    "        break\n",
    "    elif (message=='dog'):\n",
    "        print(\"The Spanish word for dog is: \", language['dog'])\n",
    "    elif (message=='cat'):\n",
    "        print(\"The Spanish word for cat is: \", language['cat'])\n",
    "    elif (message=='hello'):\n",
    "        print(\"The Spanish word for hello is: \", language['hello'])\n",
    "    elif (message=='water'):\n",
    "        print(\"The Spanish word for water is: \", language['water'])\n",
    "    elif (message=='purple'):\n",
    "        print(\"The Spanish word for purple is: \", language['purple'])\n",
    "    elif (message=='gym'):\n",
    "        print(\"The Spanish word for gym is: \", language['gym'])\n",
    "    elif (message=='bed'):\n",
    "        print(\"The Spanish word for bed is: \", language['bed'])\n",
    "    elif (message=='pants'):\n",
    "        print(\"The Spanish word for pants is:\", language['pants'])\n",
    "    elif (message=='strawberry'):\n",
    "        print(\"The Spanish word for strawberry is: \", language['strawberry'])\n",
    "    elif (message=='run'):\n",
    "        print(\"The Spanish word for run is: \", language['run'])\n",
    "    else:\n",
    "        print(\"The Spanish word \" + message + \" is not in this dictionary\")"
   ]
  },
  {
   "cell_type": "code",
   "execution_count": 6,
   "id": "c36bb60b",
   "metadata": {},
   "outputs": [
    {
     "name": "stdout",
     "output_type": "stream",
     "text": [
      "{1: 13.88888888888889, 2: 18.333333333333332, 3: 17.77777777777778, 4: 17.22222222222222, 5: 11.666666666666666, 6: 8.88888888888889, 7: 11.666666666666666, 8: 6.666666666666667, 9: 8.88888888888889, 10: 12.777777777777779, 11: 16.666666666666668, 12: 16.11111111111111, 13: 6.666666666666667, 14: 3.888888888888889, 15: 8.333333333333334, 16: 13.333333333333334, 17: 18.333333333333332, 18: 12.777777777777779, 19: 17.77777777777778, 20: 5.555555555555555, 21: 6.666666666666667, 22: 3.888888888888889, 23: 5.0, 24: 9.444444444444445, 25: 9.444444444444445, 26: 3.3333333333333335, 27: 11.666666666666666, 28: 15.555555555555555, 29: 10.555555555555555, 30: 4.444444444444445, 31: -1.1111111111111112}\n"
     ]
    }
   ],
   "source": [
    "January={1:57, 2:65, 3:64, 4:63, 5:53, 6:48, 7:53, 8:44, 9:48, 10:55,\n",
    "         11:62, 12:61, 13:44, 14:39, 15:47, 16:56, 17:65, 18:55, 19:64,\n",
    "         20:42, 21:44, 22:39, 23:41, 24:49, 25:49, 26:38, 27:53, 28:60,\n",
    "         29:51, 30:40, 31:30}\n",
    "for i in January:\n",
    "    January[i] = ((January[i]-32)*5/9)\n",
    "print(January)"
   ]
  },
  {
   "cell_type": "code",
   "execution_count": 27,
   "id": "808c3455",
   "metadata": {},
   "outputs": [
    {
     "name": "stdout",
     "output_type": "stream",
     "text": [
      "{1: 1, 2: 4, 3: 9, 4: 16, 5: 25, 6: 36, 7: 49, 8: 64, 9: 81, 10: 100, 11: 121, 12: 144, 13: 169, 14: 196, 15: 225}\n"
     ]
    }
   ],
   "source": [
    "d=dict()\n",
    "for x in range(1,16):\n",
    "    d[x]=x**2\n",
    "print(d)  "
   ]
  },
  {
   "cell_type": "code",
   "execution_count": null,
   "id": "ba1898e5",
   "metadata": {},
   "outputs": [],
   "source": []
  }
 ],
 "metadata": {
  "kernelspec": {
   "display_name": "Python 3 (ipykernel)",
   "language": "python",
   "name": "python3"
  },
  "language_info": {
   "codemirror_mode": {
    "name": "ipython",
    "version": 3
   },
   "file_extension": ".py",
   "mimetype": "text/x-python",
   "name": "python",
   "nbconvert_exporter": "python",
   "pygments_lexer": "ipython3",
   "version": "3.9.13"
  }
 },
 "nbformat": 4,
 "nbformat_minor": 5
}
